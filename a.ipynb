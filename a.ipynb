import torch
a = torch.tensor([1,1])
